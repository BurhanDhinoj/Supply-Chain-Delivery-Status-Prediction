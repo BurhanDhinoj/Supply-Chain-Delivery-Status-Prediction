{
 "cells": [
  {
   "cell_type": "markdown",
   "id": "6613b2d2",
   "metadata": {},
   "source": [
    "# Supply Chain Delivery Status Prediction"
   ]
  },
  {
   "cell_type": "code",
   "execution_count": 1,
   "id": "61d2394d",
   "metadata": {},
   "outputs": [],
   "source": [
    "##Importing packages\n",
    "\n",
    "import numpy as np\n",
    "import pandas as pd\n",
    "import seaborn as sns\n",
    "import matplotlib.pyplot as plt\n",
    "import statsmodels.api as sm\n",
    "from sklearn.model_selection import train_test_split\n",
    "from sklearn.neural_network import MLPClassifier\n",
    "from sklearn.linear_model import LogisticRegression, LogisticRegressionCV \n",
    "from dmba import classificationSummary\n",
    "from dmba.metric import AIC_score\n",
    "from dmba import backward_elimination, forward_selection, stepwise_selection\n",
    "from sklearn.linear_model import LinearRegression\n",
    "from dmba import adjusted_r2_score, AIC_score, BIC_score\n",
    "from sklearn import preprocessing\n",
    "from sklearn.preprocessing import LabelEncoder\n",
    "from dmba import regressionSummary, exhaustive_search\n",
    "from sklearn.metrics import accuracy_score\n",
    "from sklearn.metrics import plot_confusion_matrix"
   ]
  },
  {
   "cell_type": "code",
   "execution_count": 2,
   "id": "6b7b4cf1",
   "metadata": {},
   "outputs": [],
   "source": [
    "#Load the data into a dataframe\n",
    "data = pd.read_csv('C:/Users/burdhino/OneDrive/Desktop/ML Assignment 1/DataCoSupplyChainDataset.csv', encoding = 'unicode_escape',engine ='python')"
   ]
  },
  {
   "cell_type": "markdown",
   "id": "327a9de0",
   "metadata": {},
   "source": [
    "### DATA EXPLORATION"
   ]
  },
  {
   "cell_type": "code",
   "execution_count": 3,
   "id": "d85f68db",
   "metadata": {},
   "outputs": [],
   "source": [
    "##Limiting the data to 5000\n",
    "data=data.head(5000)"
   ]
  },
  {
   "cell_type": "code",
   "execution_count": 4,
   "id": "d9e39736",
   "metadata": {},
   "outputs": [
    {
     "data": {
      "text/plain": [
       "Index(['Type', 'Days for shipping (real)', 'Days for shipment (scheduled)',\n",
       "       'Benefit per order', 'Sales per customer', 'Delivery Status',\n",
       "       'Late_delivery_risk', 'Category Id', 'Category Name', 'Customer City',\n",
       "       'Customer Country', 'Customer Email', 'Customer Fname', 'Customer Id',\n",
       "       'Customer Lname', 'Customer Password', 'Customer Segment',\n",
       "       'Customer State', 'Customer Street', 'Customer Zipcode',\n",
       "       'Department Id', 'Department Name', 'Latitude', 'Longitude', 'Market',\n",
       "       'Order City', 'Order Country', 'Order Customer Id',\n",
       "       'order date (DateOrders)', 'Order Id', 'Order Item Cardprod Id',\n",
       "       'Order Item Discount', 'Order Item Discount Rate', 'Order Item Id',\n",
       "       'Order Item Product Price', 'Order Item Profit Ratio',\n",
       "       'Order Item Quantity', 'Sales', 'Order Item Total',\n",
       "       'Order Profit Per Order', 'Order Region', 'Order State', 'Order Status',\n",
       "       'Order Zipcode', 'Product Card Id', 'Product Category Id',\n",
       "       'Product Description', 'Product Image', 'Product Name', 'Product Price',\n",
       "       'Product Status', 'shipping date (DateOrders)', 'Shipping Mode'],\n",
       "      dtype='object')"
      ]
     },
     "execution_count": 4,
     "metadata": {},
     "output_type": "execute_result"
    }
   ],
   "source": [
    "##Printing the column name of the dataframe\n",
    "data.columns"
   ]
  },
  {
   "cell_type": "code",
   "execution_count": 5,
   "id": "17f6d449",
   "metadata": {},
   "outputs": [
    {
     "data": {
      "text/plain": [
       "(5000, 53)"
      ]
     },
     "execution_count": 5,
     "metadata": {},
     "output_type": "execute_result"
    }
   ],
   "source": [
    "##Printing the dimension of the dataframe\n",
    "data.shape"
   ]
  },
  {
   "cell_type": "code",
   "execution_count": 6,
   "id": "9375b9ff",
   "metadata": {
    "scrolled": true
   },
   "outputs": [
    {
     "data": {
      "text/html": [
       "<div>\n",
       "<style scoped>\n",
       "    .dataframe tbody tr th:only-of-type {\n",
       "        vertical-align: middle;\n",
       "    }\n",
       "\n",
       "    .dataframe tbody tr th {\n",
       "        vertical-align: top;\n",
       "    }\n",
       "\n",
       "    .dataframe thead th {\n",
       "        text-align: right;\n",
       "    }\n",
       "</style>\n",
       "<table border=\"1\" class=\"dataframe\">\n",
       "  <thead>\n",
       "    <tr style=\"text-align: right;\">\n",
       "      <th></th>\n",
       "      <th>Type</th>\n",
       "      <th>Days for shipping (real)</th>\n",
       "      <th>Days for shipment (scheduled)</th>\n",
       "      <th>Benefit per order</th>\n",
       "      <th>Sales per customer</th>\n",
       "      <th>Delivery Status</th>\n",
       "      <th>Late_delivery_risk</th>\n",
       "      <th>Category Id</th>\n",
       "      <th>Category Name</th>\n",
       "      <th>Customer City</th>\n",
       "      <th>...</th>\n",
       "      <th>Order Zipcode</th>\n",
       "      <th>Product Card Id</th>\n",
       "      <th>Product Category Id</th>\n",
       "      <th>Product Description</th>\n",
       "      <th>Product Image</th>\n",
       "      <th>Product Name</th>\n",
       "      <th>Product Price</th>\n",
       "      <th>Product Status</th>\n",
       "      <th>shipping date (DateOrders)</th>\n",
       "      <th>Shipping Mode</th>\n",
       "    </tr>\n",
       "  </thead>\n",
       "  <tbody>\n",
       "    <tr>\n",
       "      <th>0</th>\n",
       "      <td>DEBIT</td>\n",
       "      <td>3</td>\n",
       "      <td>4</td>\n",
       "      <td>91.250000</td>\n",
       "      <td>314.640015</td>\n",
       "      <td>Advance shipping</td>\n",
       "      <td>0</td>\n",
       "      <td>73</td>\n",
       "      <td>Sporting Goods</td>\n",
       "      <td>Caguas</td>\n",
       "      <td>...</td>\n",
       "      <td>NaN</td>\n",
       "      <td>1360</td>\n",
       "      <td>73</td>\n",
       "      <td>NaN</td>\n",
       "      <td>http://images.acmesports.sports/Smart+watch</td>\n",
       "      <td>Smart watch</td>\n",
       "      <td>327.75</td>\n",
       "      <td>0</td>\n",
       "      <td>2/3/2018 22:56</td>\n",
       "      <td>Standard Class</td>\n",
       "    </tr>\n",
       "    <tr>\n",
       "      <th>1</th>\n",
       "      <td>TRANSFER</td>\n",
       "      <td>5</td>\n",
       "      <td>4</td>\n",
       "      <td>-249.089996</td>\n",
       "      <td>311.359985</td>\n",
       "      <td>Late delivery</td>\n",
       "      <td>1</td>\n",
       "      <td>73</td>\n",
       "      <td>Sporting Goods</td>\n",
       "      <td>Caguas</td>\n",
       "      <td>...</td>\n",
       "      <td>NaN</td>\n",
       "      <td>1360</td>\n",
       "      <td>73</td>\n",
       "      <td>NaN</td>\n",
       "      <td>http://images.acmesports.sports/Smart+watch</td>\n",
       "      <td>Smart watch</td>\n",
       "      <td>327.75</td>\n",
       "      <td>0</td>\n",
       "      <td>1/18/2018 12:27</td>\n",
       "      <td>Standard Class</td>\n",
       "    </tr>\n",
       "    <tr>\n",
       "      <th>2</th>\n",
       "      <td>CASH</td>\n",
       "      <td>4</td>\n",
       "      <td>4</td>\n",
       "      <td>-247.779999</td>\n",
       "      <td>309.720001</td>\n",
       "      <td>Shipping on time</td>\n",
       "      <td>0</td>\n",
       "      <td>73</td>\n",
       "      <td>Sporting Goods</td>\n",
       "      <td>San Jose</td>\n",
       "      <td>...</td>\n",
       "      <td>NaN</td>\n",
       "      <td>1360</td>\n",
       "      <td>73</td>\n",
       "      <td>NaN</td>\n",
       "      <td>http://images.acmesports.sports/Smart+watch</td>\n",
       "      <td>Smart watch</td>\n",
       "      <td>327.75</td>\n",
       "      <td>0</td>\n",
       "      <td>1/17/2018 12:06</td>\n",
       "      <td>Standard Class</td>\n",
       "    </tr>\n",
       "    <tr>\n",
       "      <th>3</th>\n",
       "      <td>DEBIT</td>\n",
       "      <td>3</td>\n",
       "      <td>4</td>\n",
       "      <td>22.860001</td>\n",
       "      <td>304.809998</td>\n",
       "      <td>Advance shipping</td>\n",
       "      <td>0</td>\n",
       "      <td>73</td>\n",
       "      <td>Sporting Goods</td>\n",
       "      <td>Los Angeles</td>\n",
       "      <td>...</td>\n",
       "      <td>NaN</td>\n",
       "      <td>1360</td>\n",
       "      <td>73</td>\n",
       "      <td>NaN</td>\n",
       "      <td>http://images.acmesports.sports/Smart+watch</td>\n",
       "      <td>Smart watch</td>\n",
       "      <td>327.75</td>\n",
       "      <td>0</td>\n",
       "      <td>1/16/2018 11:45</td>\n",
       "      <td>Standard Class</td>\n",
       "    </tr>\n",
       "    <tr>\n",
       "      <th>4</th>\n",
       "      <td>PAYMENT</td>\n",
       "      <td>2</td>\n",
       "      <td>4</td>\n",
       "      <td>134.210007</td>\n",
       "      <td>298.250000</td>\n",
       "      <td>Advance shipping</td>\n",
       "      <td>0</td>\n",
       "      <td>73</td>\n",
       "      <td>Sporting Goods</td>\n",
       "      <td>Caguas</td>\n",
       "      <td>...</td>\n",
       "      <td>NaN</td>\n",
       "      <td>1360</td>\n",
       "      <td>73</td>\n",
       "      <td>NaN</td>\n",
       "      <td>http://images.acmesports.sports/Smart+watch</td>\n",
       "      <td>Smart watch</td>\n",
       "      <td>327.75</td>\n",
       "      <td>0</td>\n",
       "      <td>1/15/2018 11:24</td>\n",
       "      <td>Standard Class</td>\n",
       "    </tr>\n",
       "  </tbody>\n",
       "</table>\n",
       "<p>5 rows × 53 columns</p>\n",
       "</div>"
      ],
      "text/plain": [
       "       Type  Days for shipping (real)  Days for shipment (scheduled)  \\\n",
       "0     DEBIT                         3                              4   \n",
       "1  TRANSFER                         5                              4   \n",
       "2      CASH                         4                              4   \n",
       "3     DEBIT                         3                              4   \n",
       "4   PAYMENT                         2                              4   \n",
       "\n",
       "   Benefit per order  Sales per customer   Delivery Status  \\\n",
       "0          91.250000          314.640015  Advance shipping   \n",
       "1        -249.089996          311.359985     Late delivery   \n",
       "2        -247.779999          309.720001  Shipping on time   \n",
       "3          22.860001          304.809998  Advance shipping   \n",
       "4         134.210007          298.250000  Advance shipping   \n",
       "\n",
       "   Late_delivery_risk  Category Id   Category Name Customer City  ...  \\\n",
       "0                   0           73  Sporting Goods        Caguas  ...   \n",
       "1                   1           73  Sporting Goods        Caguas  ...   \n",
       "2                   0           73  Sporting Goods      San Jose  ...   \n",
       "3                   0           73  Sporting Goods   Los Angeles  ...   \n",
       "4                   0           73  Sporting Goods        Caguas  ...   \n",
       "\n",
       "  Order Zipcode Product Card Id Product Category Id  Product Description  \\\n",
       "0           NaN            1360                  73                  NaN   \n",
       "1           NaN            1360                  73                  NaN   \n",
       "2           NaN            1360                  73                  NaN   \n",
       "3           NaN            1360                  73                  NaN   \n",
       "4           NaN            1360                  73                  NaN   \n",
       "\n",
       "                                  Product Image  Product Name Product Price  \\\n",
       "0  http://images.acmesports.sports/Smart+watch   Smart watch         327.75   \n",
       "1  http://images.acmesports.sports/Smart+watch   Smart watch         327.75   \n",
       "2  http://images.acmesports.sports/Smart+watch   Smart watch         327.75   \n",
       "3  http://images.acmesports.sports/Smart+watch   Smart watch         327.75   \n",
       "4  http://images.acmesports.sports/Smart+watch   Smart watch         327.75   \n",
       "\n",
       "  Product Status shipping date (DateOrders)   Shipping Mode  \n",
       "0              0             2/3/2018 22:56  Standard Class  \n",
       "1              0            1/18/2018 12:27  Standard Class  \n",
       "2              0            1/17/2018 12:06  Standard Class  \n",
       "3              0            1/16/2018 11:45  Standard Class  \n",
       "4              0            1/15/2018 11:24  Standard Class  \n",
       "\n",
       "[5 rows x 53 columns]"
      ]
     },
     "execution_count": 6,
     "metadata": {},
     "output_type": "execute_result"
    }
   ],
   "source": [
    "data.head()"
   ]
  },
  {
   "cell_type": "code",
   "execution_count": 7,
   "id": "8c217fa3",
   "metadata": {
    "scrolled": true
   },
   "outputs": [
    {
     "name": "stdout",
     "output_type": "stream",
     "text": [
      "Type                              object\n",
      "Days for shipping (real)           int64\n",
      "Days for shipment (scheduled)      int64\n",
      "Benefit per order                float64\n",
      "Sales per customer               float64\n",
      "Delivery Status                   object\n",
      "Late_delivery_risk                 int64\n",
      "Category Id                        int64\n",
      "Category Name                     object\n",
      "Customer City                     object\n",
      "Customer Country                  object\n",
      "Customer Email                    object\n",
      "Customer Fname                    object\n",
      "Customer Id                        int64\n",
      "Customer Lname                    object\n",
      "Customer Password                 object\n",
      "Customer Segment                  object\n",
      "Customer State                    object\n",
      "Customer Street                   object\n",
      "Customer Zipcode                 float64\n",
      "Department Id                      int64\n",
      "Department Name                   object\n",
      "Latitude                         float64\n",
      "Longitude                        float64\n",
      "Market                            object\n",
      "Order City                        object\n",
      "Order Country                     object\n",
      "Order Customer Id                  int64\n",
      "order date (DateOrders)           object\n",
      "Order Id                           int64\n",
      "Order Item Cardprod Id             int64\n",
      "Order Item Discount              float64\n",
      "Order Item Discount Rate         float64\n",
      "Order Item Id                      int64\n",
      "Order Item Product Price         float64\n",
      "Order Item Profit Ratio          float64\n",
      "Order Item Quantity                int64\n",
      "Sales                            float64\n",
      "Order Item Total                 float64\n",
      "Order Profit Per Order           float64\n",
      "Order Region                      object\n",
      "Order State                       object\n",
      "Order Status                      object\n",
      "Order Zipcode                    float64\n",
      "Product Card Id                    int64\n",
      "Product Category Id                int64\n",
      "Product Description              float64\n",
      "Product Image                     object\n",
      "Product Name                      object\n",
      "Product Price                    float64\n",
      "Product Status                     int64\n",
      "shipping date (DateOrders)        object\n",
      "Shipping Mode                     object\n",
      "dtype: object\n"
     ]
    }
   ],
   "source": [
    "#Check the data types of the columns\n",
    "print(data.dtypes)"
   ]
  },
  {
   "cell_type": "code",
   "execution_count": 8,
   "id": "a7db46c5",
   "metadata": {},
   "outputs": [
    {
     "name": "stdout",
     "output_type": "stream",
     "text": [
      "<class 'pandas.core.frame.DataFrame'>\n",
      "RangeIndex: 5000 entries, 0 to 4999\n",
      "Data columns (total 53 columns):\n",
      " #   Column                         Non-Null Count  Dtype  \n",
      "---  ------                         --------------  -----  \n",
      " 0   Type                           5000 non-null   object \n",
      " 1   Days for shipping (real)       5000 non-null   int64  \n",
      " 2   Days for shipment (scheduled)  5000 non-null   int64  \n",
      " 3   Benefit per order              5000 non-null   float64\n",
      " 4   Sales per customer             5000 non-null   float64\n",
      " 5   Delivery Status                5000 non-null   object \n",
      " 6   Late_delivery_risk             5000 non-null   int64  \n",
      " 7   Category Id                    5000 non-null   int64  \n",
      " 8   Category Name                  5000 non-null   object \n",
      " 9   Customer City                  5000 non-null   object \n",
      " 10  Customer Country               5000 non-null   object \n",
      " 11  Customer Email                 5000 non-null   object \n",
      " 12  Customer Fname                 5000 non-null   object \n",
      " 13  Customer Id                    5000 non-null   int64  \n",
      " 14  Customer Lname                 5000 non-null   object \n",
      " 15  Customer Password              5000 non-null   object \n",
      " 16  Customer Segment               5000 non-null   object \n",
      " 17  Customer State                 5000 non-null   object \n",
      " 18  Customer Street                5000 non-null   object \n",
      " 19  Customer Zipcode               5000 non-null   float64\n",
      " 20  Department Id                  5000 non-null   int64  \n",
      " 21  Department Name                5000 non-null   object \n",
      " 22  Latitude                       5000 non-null   float64\n",
      " 23  Longitude                      5000 non-null   float64\n",
      " 24  Market                         5000 non-null   object \n",
      " 25  Order City                     5000 non-null   object \n",
      " 26  Order Country                  5000 non-null   object \n",
      " 27  Order Customer Id              5000 non-null   int64  \n",
      " 28  order date (DateOrders)        5000 non-null   object \n",
      " 29  Order Id                       5000 non-null   int64  \n",
      " 30  Order Item Cardprod Id         5000 non-null   int64  \n",
      " 31  Order Item Discount            5000 non-null   float64\n",
      " 32  Order Item Discount Rate       5000 non-null   float64\n",
      " 33  Order Item Id                  5000 non-null   int64  \n",
      " 34  Order Item Product Price       5000 non-null   float64\n",
      " 35  Order Item Profit Ratio        5000 non-null   float64\n",
      " 36  Order Item Quantity            5000 non-null   int64  \n",
      " 37  Sales                          5000 non-null   float64\n",
      " 38  Order Item Total               5000 non-null   float64\n",
      " 39  Order Profit Per Order         5000 non-null   float64\n",
      " 40  Order Region                   5000 non-null   object \n",
      " 41  Order State                    5000 non-null   object \n",
      " 42  Order Status                   5000 non-null   object \n",
      " 43  Order Zipcode                  282 non-null    float64\n",
      " 44  Product Card Id                5000 non-null   int64  \n",
      " 45  Product Category Id            5000 non-null   int64  \n",
      " 46  Product Description            0 non-null      float64\n",
      " 47  Product Image                  5000 non-null   object \n",
      " 48  Product Name                   5000 non-null   object \n",
      " 49  Product Price                  5000 non-null   float64\n",
      " 50  Product Status                 5000 non-null   int64  \n",
      " 51  shipping date (DateOrders)     5000 non-null   object \n",
      " 52  Shipping Mode                  5000 non-null   object \n",
      "dtypes: float64(15), int64(14), object(24)\n",
      "memory usage: 2.0+ MB\n"
     ]
    }
   ],
   "source": [
    "#To get the null values\n",
    "data.info()"
   ]
  },
  {
   "cell_type": "code",
   "execution_count": 9,
   "id": "ccdd4af9",
   "metadata": {
    "scrolled": true
   },
   "outputs": [
    {
     "data": {
      "text/html": [
       "<div>\n",
       "<style scoped>\n",
       "    .dataframe tbody tr th:only-of-type {\n",
       "        vertical-align: middle;\n",
       "    }\n",
       "\n",
       "    .dataframe tbody tr th {\n",
       "        vertical-align: top;\n",
       "    }\n",
       "\n",
       "    .dataframe thead th {\n",
       "        text-align: right;\n",
       "    }\n",
       "</style>\n",
       "<table border=\"1\" class=\"dataframe\">\n",
       "  <thead>\n",
       "    <tr style=\"text-align: right;\">\n",
       "      <th></th>\n",
       "      <th>Type</th>\n",
       "      <th>Days for shipping (real)</th>\n",
       "      <th>Days for shipment (scheduled)</th>\n",
       "      <th>Benefit per order</th>\n",
       "      <th>Sales per customer</th>\n",
       "      <th>Delivery Status</th>\n",
       "      <th>Late_delivery_risk</th>\n",
       "      <th>Category Name</th>\n",
       "      <th>Customer Country</th>\n",
       "      <th>Department Name</th>\n",
       "      <th>...</th>\n",
       "      <th>Order Item Profit Ratio</th>\n",
       "      <th>Order Item Quantity</th>\n",
       "      <th>Sales</th>\n",
       "      <th>Order Item Total</th>\n",
       "      <th>Order Profit Per Order</th>\n",
       "      <th>Order Region</th>\n",
       "      <th>Order State</th>\n",
       "      <th>Order Status</th>\n",
       "      <th>Product Price</th>\n",
       "      <th>Shipping Mode</th>\n",
       "    </tr>\n",
       "  </thead>\n",
       "  <tbody>\n",
       "    <tr>\n",
       "      <th>0</th>\n",
       "      <td>DEBIT</td>\n",
       "      <td>3</td>\n",
       "      <td>4</td>\n",
       "      <td>91.250000</td>\n",
       "      <td>314.640015</td>\n",
       "      <td>Advance shipping</td>\n",
       "      <td>0</td>\n",
       "      <td>Sporting Goods</td>\n",
       "      <td>Puerto Rico</td>\n",
       "      <td>Fitness</td>\n",
       "      <td>...</td>\n",
       "      <td>0.29</td>\n",
       "      <td>1</td>\n",
       "      <td>327.75</td>\n",
       "      <td>314.640015</td>\n",
       "      <td>91.250000</td>\n",
       "      <td>Southeast Asia</td>\n",
       "      <td>Java Occidental</td>\n",
       "      <td>COMPLETE</td>\n",
       "      <td>327.75</td>\n",
       "      <td>Standard Class</td>\n",
       "    </tr>\n",
       "    <tr>\n",
       "      <th>1</th>\n",
       "      <td>TRANSFER</td>\n",
       "      <td>5</td>\n",
       "      <td>4</td>\n",
       "      <td>-249.089996</td>\n",
       "      <td>311.359985</td>\n",
       "      <td>Late delivery</td>\n",
       "      <td>1</td>\n",
       "      <td>Sporting Goods</td>\n",
       "      <td>Puerto Rico</td>\n",
       "      <td>Fitness</td>\n",
       "      <td>...</td>\n",
       "      <td>-0.80</td>\n",
       "      <td>1</td>\n",
       "      <td>327.75</td>\n",
       "      <td>311.359985</td>\n",
       "      <td>-249.089996</td>\n",
       "      <td>South Asia</td>\n",
       "      <td>Rajastán</td>\n",
       "      <td>PENDING</td>\n",
       "      <td>327.75</td>\n",
       "      <td>Standard Class</td>\n",
       "    </tr>\n",
       "    <tr>\n",
       "      <th>2</th>\n",
       "      <td>CASH</td>\n",
       "      <td>4</td>\n",
       "      <td>4</td>\n",
       "      <td>-247.779999</td>\n",
       "      <td>309.720001</td>\n",
       "      <td>Shipping on time</td>\n",
       "      <td>0</td>\n",
       "      <td>Sporting Goods</td>\n",
       "      <td>EE. UU.</td>\n",
       "      <td>Fitness</td>\n",
       "      <td>...</td>\n",
       "      <td>-0.80</td>\n",
       "      <td>1</td>\n",
       "      <td>327.75</td>\n",
       "      <td>309.720001</td>\n",
       "      <td>-247.779999</td>\n",
       "      <td>South Asia</td>\n",
       "      <td>Rajastán</td>\n",
       "      <td>CLOSED</td>\n",
       "      <td>327.75</td>\n",
       "      <td>Standard Class</td>\n",
       "    </tr>\n",
       "    <tr>\n",
       "      <th>3</th>\n",
       "      <td>DEBIT</td>\n",
       "      <td>3</td>\n",
       "      <td>4</td>\n",
       "      <td>22.860001</td>\n",
       "      <td>304.809998</td>\n",
       "      <td>Advance shipping</td>\n",
       "      <td>0</td>\n",
       "      <td>Sporting Goods</td>\n",
       "      <td>EE. UU.</td>\n",
       "      <td>Fitness</td>\n",
       "      <td>...</td>\n",
       "      <td>0.08</td>\n",
       "      <td>1</td>\n",
       "      <td>327.75</td>\n",
       "      <td>304.809998</td>\n",
       "      <td>22.860001</td>\n",
       "      <td>Oceania</td>\n",
       "      <td>Queensland</td>\n",
       "      <td>COMPLETE</td>\n",
       "      <td>327.75</td>\n",
       "      <td>Standard Class</td>\n",
       "    </tr>\n",
       "    <tr>\n",
       "      <th>4</th>\n",
       "      <td>PAYMENT</td>\n",
       "      <td>2</td>\n",
       "      <td>4</td>\n",
       "      <td>134.210007</td>\n",
       "      <td>298.250000</td>\n",
       "      <td>Advance shipping</td>\n",
       "      <td>0</td>\n",
       "      <td>Sporting Goods</td>\n",
       "      <td>Puerto Rico</td>\n",
       "      <td>Fitness</td>\n",
       "      <td>...</td>\n",
       "      <td>0.45</td>\n",
       "      <td>1</td>\n",
       "      <td>327.75</td>\n",
       "      <td>298.250000</td>\n",
       "      <td>134.210007</td>\n",
       "      <td>Oceania</td>\n",
       "      <td>Queensland</td>\n",
       "      <td>PENDING_PAYMENT</td>\n",
       "      <td>327.75</td>\n",
       "      <td>Standard Class</td>\n",
       "    </tr>\n",
       "  </tbody>\n",
       "</table>\n",
       "<p>5 rows × 25 columns</p>\n",
       "</div>"
      ],
      "text/plain": [
       "       Type  Days for shipping (real)  Days for shipment (scheduled)  \\\n",
       "0     DEBIT                         3                              4   \n",
       "1  TRANSFER                         5                              4   \n",
       "2      CASH                         4                              4   \n",
       "3     DEBIT                         3                              4   \n",
       "4   PAYMENT                         2                              4   \n",
       "\n",
       "   Benefit per order  Sales per customer   Delivery Status  \\\n",
       "0          91.250000          314.640015  Advance shipping   \n",
       "1        -249.089996          311.359985     Late delivery   \n",
       "2        -247.779999          309.720001  Shipping on time   \n",
       "3          22.860001          304.809998  Advance shipping   \n",
       "4         134.210007          298.250000  Advance shipping   \n",
       "\n",
       "   Late_delivery_risk   Category Name Customer Country Department Name  ...  \\\n",
       "0                   0  Sporting Goods      Puerto Rico         Fitness  ...   \n",
       "1                   1  Sporting Goods      Puerto Rico         Fitness  ...   \n",
       "2                   0  Sporting Goods          EE. UU.         Fitness  ...   \n",
       "3                   0  Sporting Goods          EE. UU.         Fitness  ...   \n",
       "4                   0  Sporting Goods      Puerto Rico         Fitness  ...   \n",
       "\n",
       "  Order Item Profit Ratio  Order Item Quantity   Sales Order Item Total  \\\n",
       "0                    0.29                    1  327.75       314.640015   \n",
       "1                   -0.80                    1  327.75       311.359985   \n",
       "2                   -0.80                    1  327.75       309.720001   \n",
       "3                    0.08                    1  327.75       304.809998   \n",
       "4                    0.45                    1  327.75       298.250000   \n",
       "\n",
       "   Order Profit Per Order    Order Region      Order State     Order Status  \\\n",
       "0               91.250000  Southeast Asia  Java Occidental         COMPLETE   \n",
       "1             -249.089996      South Asia         Rajastán          PENDING   \n",
       "2             -247.779999      South Asia         Rajastán           CLOSED   \n",
       "3               22.860001         Oceania       Queensland         COMPLETE   \n",
       "4              134.210007         Oceania       Queensland  PENDING_PAYMENT   \n",
       "\n",
       "   Product Price   Shipping Mode  \n",
       "0         327.75  Standard Class  \n",
       "1         327.75  Standard Class  \n",
       "2         327.75  Standard Class  \n",
       "3         327.75  Standard Class  \n",
       "4         327.75  Standard Class  \n",
       "\n",
       "[5 rows x 25 columns]"
      ]
     },
     "execution_count": 9,
     "metadata": {},
     "output_type": "execute_result"
    }
   ],
   "source": [
    "##Creating a new dataframe df1 with selected columns\n",
    "new_data = data.copy()\n",
    "FeatureList=['Type', 'Days for shipping (real)', 'Days for shipment (scheduled)',\n",
    "       'Benefit per order', 'Sales per customer', 'Delivery Status',\n",
    "       'Late_delivery_risk', 'Category Name',\n",
    "       'Customer Country', 'Department Name','Market',\n",
    "       'Order Item Discount', 'Order Item Discount Rate', 'Order Region',\n",
    "       'Order Item Product Price', 'Order Item Profit Ratio',\n",
    "       'Order Item Quantity', 'Sales', 'Order Item Total',\n",
    "       'Order Profit Per Order', 'Order Region', 'Order State', 'Order Status', 'Product Price', 'Shipping Mode'\n",
    "]\n",
    "\n",
    "df1=new_data[FeatureList]\n",
    "df1.head()"
   ]
  },
  {
   "cell_type": "code",
   "execution_count": 10,
   "id": "da2cf213",
   "metadata": {
    "scrolled": false
   },
   "outputs": [
    {
     "data": {
      "text/plain": [
       "Type                             0\n",
       "Days for shipping (real)         0\n",
       "Days for shipment (scheduled)    0\n",
       "Benefit per order                0\n",
       "Sales per customer               0\n",
       "Delivery Status                  0\n",
       "Late_delivery_risk               0\n",
       "Category Name                    0\n",
       "Customer Country                 0\n",
       "Department Name                  0\n",
       "Market                           0\n",
       "Order Item Discount              0\n",
       "Order Item Discount Rate         0\n",
       "Order Region                     0\n",
       "Order Item Product Price         0\n",
       "Order Item Profit Ratio          0\n",
       "Order Item Quantity              0\n",
       "Sales                            0\n",
       "Order Item Total                 0\n",
       "Order Profit Per Order           0\n",
       "Order Region                     0\n",
       "Order State                      0\n",
       "Order Status                     0\n",
       "Product Price                    0\n",
       "Shipping Mode                    0\n",
       "dtype: int64"
      ]
     },
     "execution_count": 10,
     "metadata": {},
     "output_type": "execute_result"
    }
   ],
   "source": [
    "#Counting the number of Null values in the new dataframe with selected columns\n",
    "df1.isnull().sum()"
   ]
  },
  {
   "cell_type": "code",
   "execution_count": 11,
   "id": "b3048b7f",
   "metadata": {
    "scrolled": true
   },
   "outputs": [
    {
     "data": {
      "text/html": [
       "<div>\n",
       "<style scoped>\n",
       "    .dataframe tbody tr th:only-of-type {\n",
       "        vertical-align: middle;\n",
       "    }\n",
       "\n",
       "    .dataframe tbody tr th {\n",
       "        vertical-align: top;\n",
       "    }\n",
       "\n",
       "    .dataframe thead th {\n",
       "        text-align: right;\n",
       "    }\n",
       "</style>\n",
       "<table border=\"1\" class=\"dataframe\">\n",
       "  <thead>\n",
       "    <tr style=\"text-align: right;\">\n",
       "      <th></th>\n",
       "      <th>Days for shipping (real)</th>\n",
       "      <th>Days for shipment (scheduled)</th>\n",
       "      <th>Benefit per order</th>\n",
       "      <th>Sales per customer</th>\n",
       "      <th>Late_delivery_risk</th>\n",
       "      <th>Order Item Discount</th>\n",
       "      <th>Order Item Discount Rate</th>\n",
       "      <th>Order Item Product Price</th>\n",
       "      <th>Order Item Profit Ratio</th>\n",
       "      <th>Order Item Quantity</th>\n",
       "      <th>Sales</th>\n",
       "      <th>Order Item Total</th>\n",
       "      <th>Order Profit Per Order</th>\n",
       "      <th>Product Price</th>\n",
       "    </tr>\n",
       "  </thead>\n",
       "  <tbody>\n",
       "    <tr>\n",
       "      <th>count</th>\n",
       "      <td>5000.000000</td>\n",
       "      <td>5000.000000</td>\n",
       "      <td>5000.000000</td>\n",
       "      <td>5000.000000</td>\n",
       "      <td>5000.000000</td>\n",
       "      <td>5000.000000</td>\n",
       "      <td>5000.000000</td>\n",
       "      <td>5000.000000</td>\n",
       "      <td>5000.000000</td>\n",
       "      <td>5000.000000</td>\n",
       "      <td>5000.000000</td>\n",
       "      <td>5000.000000</td>\n",
       "      <td>5000.000000</td>\n",
       "      <td>5000.000000</td>\n",
       "    </tr>\n",
       "    <tr>\n",
       "      <th>mean</th>\n",
       "      <td>3.748800</td>\n",
       "      <td>3.260800</td>\n",
       "      <td>22.629060</td>\n",
       "      <td>191.951732</td>\n",
       "      <td>0.505600</td>\n",
       "      <td>22.277480</td>\n",
       "      <td>0.103764</td>\n",
       "      <td>131.927883</td>\n",
       "      <td>0.114786</td>\n",
       "      <td>2.522600</td>\n",
       "      <td>214.228868</td>\n",
       "      <td>191.951732</td>\n",
       "      <td>22.629060</td>\n",
       "      <td>131.927883</td>\n",
       "    </tr>\n",
       "    <tr>\n",
       "      <th>std</th>\n",
       "      <td>1.528059</td>\n",
       "      <td>1.169212</td>\n",
       "      <td>107.199729</td>\n",
       "      <td>124.494473</td>\n",
       "      <td>0.500019</td>\n",
       "      <td>23.506161</td>\n",
       "      <td>0.070295</td>\n",
       "      <td>138.422058</td>\n",
       "      <td>0.471847</td>\n",
       "      <td>1.705776</td>\n",
       "      <td>138.424152</td>\n",
       "      <td>124.494473</td>\n",
       "      <td>107.199729</td>\n",
       "      <td>138.422058</td>\n",
       "    </tr>\n",
       "    <tr>\n",
       "      <th>min</th>\n",
       "      <td>0.000000</td>\n",
       "      <td>0.000000</td>\n",
       "      <td>-1140.790039</td>\n",
       "      <td>9.260000</td>\n",
       "      <td>0.000000</td>\n",
       "      <td>0.000000</td>\n",
       "      <td>0.000000</td>\n",
       "      <td>11.290000</td>\n",
       "      <td>-2.750000</td>\n",
       "      <td>1.000000</td>\n",
       "      <td>11.290000</td>\n",
       "      <td>9.260000</td>\n",
       "      <td>-1140.790039</td>\n",
       "      <td>11.290000</td>\n",
       "    </tr>\n",
       "    <tr>\n",
       "      <th>25%</th>\n",
       "      <td>2.000000</td>\n",
       "      <td>2.000000</td>\n",
       "      <td>6.520000</td>\n",
       "      <td>103.989998</td>\n",
       "      <td>0.000000</td>\n",
       "      <td>5.600000</td>\n",
       "      <td>0.040000</td>\n",
       "      <td>50.000000</td>\n",
       "      <td>0.070000</td>\n",
       "      <td>1.000000</td>\n",
       "      <td>119.980003</td>\n",
       "      <td>103.989998</td>\n",
       "      <td>6.520000</td>\n",
       "      <td>50.000000</td>\n",
       "    </tr>\n",
       "    <tr>\n",
       "      <th>50%</th>\n",
       "      <td>4.000000</td>\n",
       "      <td>4.000000</td>\n",
       "      <td>31.469999</td>\n",
       "      <td>176.184998</td>\n",
       "      <td>1.000000</td>\n",
       "      <td>15.000000</td>\n",
       "      <td>0.100000</td>\n",
       "      <td>59.990002</td>\n",
       "      <td>0.270000</td>\n",
       "      <td>1.000000</td>\n",
       "      <td>199.979996</td>\n",
       "      <td>176.184998</td>\n",
       "      <td>31.469999</td>\n",
       "      <td>59.990002</td>\n",
       "    </tr>\n",
       "    <tr>\n",
       "      <th>75%</th>\n",
       "      <td>5.000000</td>\n",
       "      <td>4.000000</td>\n",
       "      <td>70.980003</td>\n",
       "      <td>272.029999</td>\n",
       "      <td>1.000000</td>\n",
       "      <td>32.500000</td>\n",
       "      <td>0.160000</td>\n",
       "      <td>129.990005</td>\n",
       "      <td>0.360000</td>\n",
       "      <td>4.000000</td>\n",
       "      <td>299.980011</td>\n",
       "      <td>272.029999</td>\n",
       "      <td>70.980003</td>\n",
       "      <td>129.990005</td>\n",
       "    </tr>\n",
       "    <tr>\n",
       "      <th>max</th>\n",
       "      <td>6.000000</td>\n",
       "      <td>4.000000</td>\n",
       "      <td>599.250000</td>\n",
       "      <td>1417.500000</td>\n",
       "      <td>1.000000</td>\n",
       "      <td>375.000000</td>\n",
       "      <td>0.250000</td>\n",
       "      <td>1500.000000</td>\n",
       "      <td>0.500000</td>\n",
       "      <td>5.000000</td>\n",
       "      <td>1500.000000</td>\n",
       "      <td>1417.500000</td>\n",
       "      <td>599.250000</td>\n",
       "      <td>1500.000000</td>\n",
       "    </tr>\n",
       "  </tbody>\n",
       "</table>\n",
       "</div>"
      ],
      "text/plain": [
       "       Days for shipping (real)  Days for shipment (scheduled)  \\\n",
       "count               5000.000000                    5000.000000   \n",
       "mean                   3.748800                       3.260800   \n",
       "std                    1.528059                       1.169212   \n",
       "min                    0.000000                       0.000000   \n",
       "25%                    2.000000                       2.000000   \n",
       "50%                    4.000000                       4.000000   \n",
       "75%                    5.000000                       4.000000   \n",
       "max                    6.000000                       4.000000   \n",
       "\n",
       "       Benefit per order  Sales per customer  Late_delivery_risk  \\\n",
       "count        5000.000000         5000.000000         5000.000000   \n",
       "mean           22.629060          191.951732            0.505600   \n",
       "std           107.199729          124.494473            0.500019   \n",
       "min         -1140.790039            9.260000            0.000000   \n",
       "25%             6.520000          103.989998            0.000000   \n",
       "50%            31.469999          176.184998            1.000000   \n",
       "75%            70.980003          272.029999            1.000000   \n",
       "max           599.250000         1417.500000            1.000000   \n",
       "\n",
       "       Order Item Discount  Order Item Discount Rate  \\\n",
       "count          5000.000000               5000.000000   \n",
       "mean             22.277480                  0.103764   \n",
       "std              23.506161                  0.070295   \n",
       "min               0.000000                  0.000000   \n",
       "25%               5.600000                  0.040000   \n",
       "50%              15.000000                  0.100000   \n",
       "75%              32.500000                  0.160000   \n",
       "max             375.000000                  0.250000   \n",
       "\n",
       "       Order Item Product Price  Order Item Profit Ratio  Order Item Quantity  \\\n",
       "count               5000.000000              5000.000000          5000.000000   \n",
       "mean                 131.927883                 0.114786             2.522600   \n",
       "std                  138.422058                 0.471847             1.705776   \n",
       "min                   11.290000                -2.750000             1.000000   \n",
       "25%                   50.000000                 0.070000             1.000000   \n",
       "50%                   59.990002                 0.270000             1.000000   \n",
       "75%                  129.990005                 0.360000             4.000000   \n",
       "max                 1500.000000                 0.500000             5.000000   \n",
       "\n",
       "             Sales  Order Item Total  Order Profit Per Order  Product Price  \n",
       "count  5000.000000       5000.000000             5000.000000    5000.000000  \n",
       "mean    214.228868        191.951732               22.629060     131.927883  \n",
       "std     138.424152        124.494473              107.199729     138.422058  \n",
       "min      11.290000          9.260000            -1140.790039      11.290000  \n",
       "25%     119.980003        103.989998                6.520000      50.000000  \n",
       "50%     199.979996        176.184998               31.469999      59.990002  \n",
       "75%     299.980011        272.029999               70.980003     129.990005  \n",
       "max    1500.000000       1417.500000              599.250000    1500.000000  "
      ]
     },
     "execution_count": 11,
     "metadata": {},
     "output_type": "execute_result"
    }
   ],
   "source": [
    "#Descriptive Statistics\n",
    "df1.describe()"
   ]
  },
  {
   "cell_type": "code",
   "execution_count": 12,
   "id": "df9e0384",
   "metadata": {
    "scrolled": true
   },
   "outputs": [
    {
     "data": {
      "text/plain": [
       "<AxesSubplot:title={'center':'Total sales for all regions'}, xlabel='Order Region'>"
      ]
     },
     "execution_count": 12,
     "metadata": {},
     "output_type": "execute_result"
    },
    {
     "data": {
      "image/png": "[encoded data removed]",
      "text/plain": [
       "<Figure size 864x432 with 1 Axes>"
      ]
     },
     "metadata": {
      "needs_background": "light"
     },
     "output_type": "display_data"
    },
    {
     "data": {
      "image/png": "[encoded data removed]",
      "text/plain": [
       "<Figure size 864x432 with 1 Axes>"
      ]
     },
     "metadata": {
      "needs_background": "light"
     },
     "output_type": "display_data"
    }
   ],
   "source": [
    "#Grouping by total sales with respoect to Market and Region\n",
    "market = new_data.groupby('Market') \n",
    "region = new_data.groupby('Order Region')\n",
    "plt.figure(1)\n",
    "market['Sales per customer'].sum().sort_values(ascending=False).plot.bar(figsize=(12,6), title=\"Total sales for all markets\")\n",
    "plt.figure(2)\n",
    "region['Sales per customer'].sum().sort_values(ascending=False).nlargest(10).plot.bar(figsize=(12,6), title=\"Total sales for all regions\")"
   ]
  },
  {
   "cell_type": "code",
   "execution_count": 13,
   "id": "4ff4c431",
   "metadata": {
    "scrolled": true
   },
   "outputs": [
    {
     "data": {
      "text/plain": [
       "<AxesSubplot:title={'center':'Average price'}, xlabel='Category Name'>"
      ]
     },
     "execution_count": 13,
     "metadata": {},
     "output_type": "execute_result"
    },
    {
     "data": {
      "image/png": "[encoded data removed]",
      "text/plain": [
       "<Figure size 864x432 with 1 Axes>"
      ]
     },
     "metadata": {
      "needs_background": "light"
     },
     "output_type": "display_data"
    },
    {
     "data": {
      "image/png": "[encoded data removed]",
      "text/plain": [
       "<Figure size 864x432 with 1 Axes>"
      ]
     },
     "metadata": {
      "needs_background": "light"
     },
     "output_type": "display_data"
    },
    {
     "data": {
      "image/png": "[encoded data removed]",
      "text/plain": [
       "<Figure size 864x432 with 1 Axes>"
      ]
     },
     "metadata": {
      "needs_background": "light"
     },
     "output_type": "display_data"
    }
   ],
   "source": [
    "##Grouping all categories of product by Sales and prices\n",
    "cat_df = new_data.groupby('Category Name')\n",
    "plt.figure(1)\n",
    "##Total sum of sales for all categories\n",
    "cat_df['Sales per customer'].sum().sort_values(ascending=False).nlargest(10).plot.bar(figsize=(12,6), title=\"Total sales\")\n",
    "##Mean sales for all categories\n",
    "plt.figure(2)\n",
    "cat_df['Sales per customer'].mean().sort_values(ascending=False).nlargest(10).plot.bar(figsize=(12,6), title=\"Average sales\")\n",
    "plt.figure(3)\n",
    "##Mean prices for all categories\n",
    "cat_df['Product Price'].mean().sort_values(ascending=False).nlargest(10).plot.bar(figsize=(12,6), title=\"Average price\")"
   ]
  },
  {
   "cell_type": "code",
   "execution_count": 14,
   "id": "9243e5cf",
   "metadata": {
    "scrolled": true
   },
   "outputs": [
    {
     "data": {
      "text/plain": [
       "<AxesSubplot:title={'center':'Top 10 products with most late deliveries'}>"
      ]
     },
     "execution_count": 14,
     "metadata": {},
     "output_type": "execute_result"
    },
    {
     "data": {
      "image/png": "[encoded data removed]",
      "text/plain": [
       "<Figure size 1440x576 with 1 Axes>"
      ]
     },
     "metadata": {
      "needs_background": "light"
     },
     "output_type": "display_data"
    }
   ],
   "source": [
    "##Filtering columns with late delivery status\n",
    "late_delivery = new_data[(data['Delivery Status'] == 'Late delivery')]\n",
    "##Top 10 products with most late deliveries\n",
    "late_delivery['Category Name'].value_counts().nlargest(10).plot.bar(figsize=(20,8), title=\"Top 10 products with most late deliveries\")"
   ]
  },
  {
   "cell_type": "code",
   "execution_count": 15,
   "id": "f81a9ad0",
   "metadata": {
    "scrolled": false
   },
   "outputs": [
    {
     "data": {
      "image/png": "[encoded data removed]",
      "text/plain": [
       "<Figure size 1440x576 with 1 Axes>"
      ]
     },
     "metadata": {
      "needs_background": "light"
     },
     "output_type": "display_data"
    }
   ],
   "source": [
    "##Filtering orders with late delivery risk\n",
    "xyz1 = new_data[(data['Late_delivery_risk'] == 1)]\n",
    "##Filtering late delivered orders\n",
    "xyz2 = new_data[(data['Delivery Status'] == 'Late delivery')]\n",
    "count1=xyz1['Order Region'].value_counts()\n",
    "count2=xyz2['Order Region'].value_counts()\n",
    "\n",
    "names=new_data['Order Region'].value_counts().keys()\n",
    "n_groups=23\n",
    "fig,ax = plt.subplots(figsize=(20,8)) #Figure size\n",
    "index=np.arange(n_groups)\n",
    "bar_width=0.2\n",
    "opacity=0.8\n",
    "type1=plt.bar(index,count1,bar_width,alpha=opacity,color='r',label='Risk of late delivery')\n",
    "type2=plt.bar(index+bar_width,count2,bar_width,alpha=opacity,color='y',label='Late delivery')\n",
    "plt.xlabel('Order Regions')\n",
    "plt.ylabel('Number of shipments')\n",
    "plt.title('Late delivered products used in all regions')\n",
    "plt.legend()\n",
    "plt.xticks(index+bar_width,names,rotation=90)\n",
    "plt.tight_layout()\n",
    "plt.show()"
   ]
  },
  {
   "cell_type": "markdown",
   "id": "e4f86c73",
   "metadata": {},
   "source": [
    "##Neural Network (NN) Model"
   ]
  },
  {
   "cell_type": "code",
   "execution_count": 16,
   "id": "8c37c3db",
   "metadata": {},
   "outputs": [],
   "source": [
    "##Creating dummy variables for catergorical columns and storing it a new dataframe\n",
    "categorical_columns = [\"Type\", \"Delivery Status\", \"Category Name\",\n",
    "       \"Customer Country\",\"Market\", \"Department Name\",\n",
    "       \"Order Item Quantity\", \"Sales\", \"Order Item Total\", \"Order Region\", \"Order State\", \"Order Status\", \"Shipping Mode\"]\n",
    "\n",
    "prefix = \"dummy\"\n",
    "df2 = pd.get_dummies(df1, columns=categorical_columns, prefix=prefix, prefix_sep='_')\n"
   ]
  },
  {
   "cell_type": "code",
   "execution_count": 17,
   "id": "03c4d1e8",
   "metadata": {
    "scrolled": true
   },
   "outputs": [
    {
     "data": {
      "text/plain": [
       "Index(['Days for shipping (real)', 'Days for shipment (scheduled)',\n",
       "       'Benefit per order', 'Sales per customer', 'Late_delivery_risk',\n",
       "       'Order Item Discount', 'Order Item Discount Rate',\n",
       "       'Order Item Product Price', 'Order Item Profit Ratio',\n",
       "       'Order Profit Per Order',\n",
       "       ...\n",
       "       'dummy_ON_HOLD', 'dummy_PAYMENT_REVIEW', 'dummy_PENDING',\n",
       "       'dummy_PENDING_PAYMENT', 'dummy_PROCESSING', 'dummy_SUSPECTED_FRAUD',\n",
       "       'dummy_First Class', 'dummy_Same Day', 'dummy_Second Class',\n",
       "       'dummy_Standard Class'],\n",
       "      dtype='object', length=1842)"
      ]
     },
     "execution_count": 17,
     "metadata": {},
     "output_type": "execute_result"
    }
   ],
   "source": [
    "##Printing the columns of the new dataframe with the dummy variables\n",
    "df2.columns"
   ]
  },
  {
   "cell_type": "markdown",
   "id": "5f7d553d",
   "metadata": {},
   "source": [
    "## Neural Networks Model (MLP)"
   ]
  },
  {
   "cell_type": "code",
   "execution_count": 18,
   "id": "15595162",
   "metadata": {},
   "outputs": [],
   "source": [
    "##Splitting the data into training and test datasets\n",
    "X = df2.drop([\"Late_delivery_risk\"], axis=1)\n",
    "y = df2[\"Late_delivery_risk\"]\n",
    "classes = sorted(y.unique())\n",
    "\n",
    "X_train, X_test, y_train, y_test = train_test_split(X, y, test_size=0.2)"
   ]
  },
  {
   "cell_type": "code",
   "execution_count": 19,
   "id": "2f636ac6",
   "metadata": {},
   "outputs": [
    {
     "data": {
      "text/plain": [
       "MLPClassifier()"
      ]
     },
     "execution_count": 19,
     "metadata": {},
     "output_type": "execute_result"
    }
   ],
   "source": [
    "##Train the MLP classifier\n",
    "mlp = MLPClassifier()\n",
    "mlp.fit(X_train, y_train)"
   ]
  },
  {
   "cell_type": "code",
   "execution_count": 20,
   "id": "2b2bff67",
   "metadata": {},
   "outputs": [],
   "source": [
    "##Predicting the target values for the test set\n",
    "y_pred = mlp.predict(X_test)"
   ]
  },
  {
   "cell_type": "code",
   "execution_count": 21,
   "id": "8c51f5d6",
   "metadata": {
    "scrolled": true
   },
   "outputs": [
    {
     "name": "stderr",
     "output_type": "stream",
     "text": [
      "C:\\Users\\Simmah Kazi\\anaconda3\\lib\\site-packages\\sklearn\\neural_network\\_multilayer_perceptron.py:549: ConvergenceWarning: lbfgs failed to converge (status=1):\n",
      "STOP: TOTAL NO. of ITERATIONS REACHED LIMIT.\n",
      "\n",
      "Increase the number of iterations (max_iter) or scale the data as shown in:\n",
      "    https://scikit-learn.org/stable/modules/preprocessing.html\n",
      "  self.n_iter_ = _check_optimize_result(\"lbfgs\", opt_res, self.max_iter)\n"
     ]
    },
    {
     "data": {
      "text/plain": [
       "array([0, 1, 0, ..., 1, 0, 0], dtype=int64)"
      ]
     },
     "execution_count": 21,
     "metadata": {},
     "output_type": "execute_result"
    }
   ],
   "source": [
    "clf = MLPClassifier(hidden_layer_sizes=(7),activation='logistic', solver='lbfgs',random_state=1)\n",
    "clf.fit(X_train, y_train.values)\n",
    "clf.predict(X)"
   ]
  },
  {
   "cell_type": "code",
   "execution_count": 22,
   "id": "4248ef79",
   "metadata": {
    "scrolled": false
   },
   "outputs": [
    {
     "name": "stdout",
     "output_type": "stream",
     "text": [
      "Intercepts\n",
      "[array([ 0.01791197, -0.03083649,  0.02629505, -0.81827165, -0.23591476,\n",
      "        2.03389164, -0.05865516]), array([23.31485151])]\n",
      "Weights\n",
      "[array([[ 7.69600732e-02,  6.50829305e-01, -3.99090035e-02, ...,\n",
      "         6.94460860e+00, -2.13465694e+01, -2.25802741e+00],\n",
      "       [ 2.04007349e-02, -6.31942564e-01, -1.06472736e-02, ...,\n",
      "        -5.63484290e+00,  2.50399576e+01,  9.57690503e-01],\n",
      "       [ 3.39852792e-01,  4.57504985e-01, -7.19245669e-02, ...,\n",
      "        -1.37831445e+00,  3.01375964e-03,  4.30605313e-01],\n",
      "       ...,\n",
      "       [-1.94025928e-03,  1.29152739e-02,  9.42905311e-03, ...,\n",
      "        -2.00508609e-02,  8.32041951e-02,  1.75666899e-02],\n",
      "       [ 1.04929114e-03,  1.09000186e-01, -1.54925060e-02, ...,\n",
      "         1.34338861e+00, -3.41451256e+00, -2.34640763e-01],\n",
      "       [ 3.54119676e-02, -2.54229429e-01, -1.90556605e-02, ...,\n",
      "        -2.27809010e+00,  8.84369035e+00,  4.38891403e-01]]), array([[ -1.29501841],\n",
      "       [ -0.55763704],\n",
      "       [  0.37107794],\n",
      "       [-16.64052369],\n",
      "       [ 10.23441902],\n",
      "       [-22.52588461],\n",
      "       [  9.31727429]])]\n",
      "          Type  Days for shipping (real)  Days for shipment (scheduled)  \\\n",
      "0        DEBIT                         3                              4   \n",
      "1     TRANSFER                         5                              4   \n",
      "2         CASH                         4                              4   \n",
      "3        DEBIT                         3                              4   \n",
      "4      PAYMENT                         2                              4   \n",
      "...        ...                       ...                            ...   \n",
      "4995  TRANSFER                         6                              4   \n",
      "4996  TRANSFER                         4                              4   \n",
      "4997  TRANSFER                         6                              4   \n",
      "4998  TRANSFER                         4                              4   \n",
      "4999  TRANSFER                         4                              4   \n",
      "\n",
      "      Benefit per order  Sales per customer   Delivery Status  \\\n",
      "0             91.250000          314.640015  Advance shipping   \n",
      "1           -249.089996          311.359985     Late delivery   \n",
      "2           -247.779999          309.720001  Shipping on time   \n",
      "3             22.860001          304.809998  Advance shipping   \n",
      "4            134.210007          298.250000  Advance shipping   \n",
      "...                 ...                 ...               ...   \n",
      "4995          19.420000          223.160004     Late delivery   \n",
      "4996          83.690002          223.160004  Shipping on time   \n",
      "4997         104.809998          218.360001     Late delivery   \n",
      "4998          21.840000          218.360001  Shipping on time   \n",
      "4999         -13.610000          215.960007  Shipping on time   \n",
      "\n",
      "      Late_delivery_risk  Category Id   Category Name    Customer City  ...  \\\n",
      "0                      0           73  Sporting Goods           Caguas  ...   \n",
      "1                      1           73  Sporting Goods           Caguas  ...   \n",
      "2                      0           73  Sporting Goods         San Jose  ...   \n",
      "3                      0           73  Sporting Goods      Los Angeles  ...   \n",
      "4                      0           73  Sporting Goods           Caguas  ...   \n",
      "...                  ...          ...             ...              ...  ...   \n",
      "4995                   1           17          Cleats            Miami  ...   \n",
      "4996                   0           17          Cleats          Detroit  ...   \n",
      "4997                   1           17          Cleats  Fountain Valley  ...   \n",
      "4998                   0           17          Cleats           Laredo  ...   \n",
      "4999                   0           17          Cleats         Longmont  ...   \n",
      "\n",
      "     Product Category Id Product Description  \\\n",
      "0                     73                 NaN   \n",
      "1                     73                 NaN   \n",
      "2                     73                 NaN   \n",
      "3                     73                 NaN   \n",
      "4                     73                 NaN   \n",
      "...                  ...                 ...   \n",
      "4995                  17                 NaN   \n",
      "4996                  17                 NaN   \n",
      "4997                  17                 NaN   \n",
      "4998                  17                 NaN   \n",
      "4999                  17                 NaN   \n",
      "\n",
      "                                          Product Image  \\\n",
      "0          http://images.acmesports.sports/Smart+watch    \n",
      "1          http://images.acmesports.sports/Smart+watch    \n",
      "2          http://images.acmesports.sports/Smart+watch    \n",
      "3          http://images.acmesports.sports/Smart+watch    \n",
      "4          http://images.acmesports.sports/Smart+watch    \n",
      "...                                                 ...   \n",
      "4995  http://images.acmesports.sports/Perfect+Fitnes...   \n",
      "4996  http://images.acmesports.sports/Perfect+Fitnes...   \n",
      "4997  http://images.acmesports.sports/Perfect+Fitnes...   \n",
      "4998  http://images.acmesports.sports/Perfect+Fitnes...   \n",
      "4999  http://images.acmesports.sports/Perfect+Fitnes...   \n",
      "\n",
      "                          Product Name Product Price Product Status  \\\n",
      "0                         Smart watch     327.750000              0   \n",
      "1                         Smart watch     327.750000              0   \n",
      "2                         Smart watch     327.750000              0   \n",
      "3                         Smart watch     327.750000              0   \n",
      "4                         Smart watch     327.750000              0   \n",
      "...                                ...           ...            ...   \n",
      "4995  Perfect Fitness Perfect Rip Deck     59.990002              0   \n",
      "4996  Perfect Fitness Perfect Rip Deck     59.990002              0   \n",
      "4997  Perfect Fitness Perfect Rip Deck     59.990002              0   \n",
      "4998  Perfect Fitness Perfect Rip Deck     59.990002              0   \n",
      "4999  Perfect Fitness Perfect Rip Deck     59.990002              0   \n",
      "\n",
      "     shipping date (DateOrders)   Shipping Mode         0             1  \n",
      "0                2/3/2018 22:56  Standard Class  1.000000  1.305438e-07  \n",
      "1               1/18/2018 12:27  Standard Class  0.001261  9.987387e-01  \n",
      "2               1/17/2018 12:06  Standard Class  1.000000  1.305438e-07  \n",
      "3               1/16/2018 11:45  Standard Class  1.000000  1.305438e-07  \n",
      "4               1/15/2018 11:24  Standard Class  1.000000  1.305438e-07  \n",
      "...                         ...             ...       ...           ...  \n",
      "4995            12/1/2016 14:47  Standard Class  0.001261  9.987387e-01  \n",
      "4996             12/8/2016 8:18  Standard Class  1.000000  1.305438e-07  \n",
      "4997            2/28/2016 16:45  Standard Class  0.001261  9.987387e-01  \n",
      "4998             4/2/2016 12:09  Standard Class  1.000000  1.305438e-07  \n",
      "4999             2/20/2016 2:24  Standard Class  1.000000  1.305438e-07  \n",
      "\n",
      "[5000 rows x 55 columns]\n"
     ]
    }
   ],
   "source": [
    "##Network structure\n",
    "print('Intercepts')\n",
    "print(clf.intercepts_)\n",
    "\n",
    "##Script to run the weights \n",
    "print('Weights')\n",
    "print(clf.coefs_)\n",
    "\n",
    "##Predicting the probabilities of each class after using the trained model\n",
    "print(pd.concat([data,pd.DataFrame(clf.predict_proba(X), columns=classes)], axis=1))"
   ]
  },
  {
   "cell_type": "code",
   "execution_count": 23,
   "id": "eb252593",
   "metadata": {
    "scrolled": true
   },
   "outputs": [
    {
     "name": "stdout",
     "output_type": "stream",
     "text": [
      "Training Data\n",
      "Confusion Matrix (Accuracy 0.9992)\n",
      "\n",
      "       Prediction\n",
      "Actual    0    1\n",
      "     0 1958    3\n",
      "     1    0 2039\n",
      "\n",
      "Testing Data\n",
      "Confusion Matrix (Accuracy 0.9950)\n",
      "\n",
      "       Prediction\n",
      "Actual   0   1\n",
      "     0 506   5\n",
      "     1   0 489\n"
     ]
    }
   ],
   "source": [
    "##Measuring the performance of the data\n",
    "print('Training Data')\n",
    "classificationSummary(y_train, clf.predict(X_train))\n",
    "\n",
    "print('\\nTesting Data')\n",
    "classificationSummary(y_test, clf.predict(X_test))"
   ]
  },
  {
   "cell_type": "code",
   "execution_count": 24,
   "id": "d7ec2ea9",
   "metadata": {},
   "outputs": [
    {
     "name": "stdout",
     "output_type": "stream",
     "text": [
      "Neural Network - Training Data - Confusion Matrix\n"
     ]
    },
    {
     "name": "stderr",
     "output_type": "stream",
     "text": [
      "C:\\Users\\Simmah Kazi\\anaconda3\\lib\\site-packages\\sklearn\\utils\\deprecation.py:87: FutureWarning: Function plot_confusion_matrix is deprecated; Function `plot_confusion_matrix` is deprecated in 1.0 and will be removed in 1.2. Use one of the class methods: ConfusionMatrixDisplay.from_predictions or ConfusionMatrixDisplay.from_estimator.\n",
      "  warnings.warn(msg, category=FutureWarning)\n"
     ]
    },
    {
     "data": {
      "image/png": "[encoded data removed]",
      "text/plain": [
       "<Figure size 432x288 with 2 Axes>"
      ]
     },
     "metadata": {
      "needs_background": "light"
     },
     "output_type": "display_data"
    },
    {
     "name": "stdout",
     "output_type": "stream",
     "text": [
      "Neural Network - Test Data - Confusion Matrix\n"
     ]
    },
    {
     "name": "stderr",
     "output_type": "stream",
     "text": [
      "C:\\Users\\Simmah Kazi\\anaconda3\\lib\\site-packages\\sklearn\\utils\\deprecation.py:87: FutureWarning: Function plot_confusion_matrix is deprecated; Function `plot_confusion_matrix` is deprecated in 1.0 and will be removed in 1.2. Use one of the class methods: ConfusionMatrixDisplay.from_predictions or ConfusionMatrixDisplay.from_estimator.\n",
      "  warnings.warn(msg, category=FutureWarning)\n"
     ]
    },
    {
     "data": {
      "image/png": "[encoded data removed]",
      "text/plain": [
       "<Figure size 432x288 with 2 Axes>"
      ]
     },
     "metadata": {
      "needs_background": "light"
     },
     "output_type": "display_data"
    }
   ],
   "source": [
    "#Creating a Confusion matrix\n",
    "print('Neural Network - Training Data - Confusion Matrix')\n",
    "plot_confusion_matrix(clf, X_train, y_train)\n",
    "plt.show()\n",
    "\n",
    "print('Neural Network - Test Data - Confusion Matrix')\n",
    "plot_confusion_matrix(clf, X_test, y_test)\n",
    "plt.show()"
   ]
  },
  {
   "cell_type": "markdown",
   "id": "768d85b9",
   "metadata": {},
   "source": [
    "### LOGISTIC REGRESSION"
   ]
  },
  {
   "cell_type": "code",
   "execution_count": 25,
   "id": "ec05fce6",
   "metadata": {},
   "outputs": [],
   "source": [
    "##Setting Predictors and Output variables \n",
    "Xlr = df2.drop([\"Late_delivery_risk\"], axis=1)\n",
    "ylr = df2[\"Late_delivery_risk\"]\n",
    "Xlr_train, Xlr_test, ylr_train, ylr_test = train_test_split(Xlr, ylr, test_size=0.4, random_state=1)"
   ]
  },
  {
   "cell_type": "code",
   "execution_count": 26,
   "id": "59347e21",
   "metadata": {
    "scrolled": true
   },
   "outputs": [
    {
     "name": "stdout",
     "output_type": "stream",
     "text": [
      "intercept  -1.1983707444236544\n",
      "       Days for shipping (real)  Days for shipment (scheduled)  \\\n",
      "coeff                   2.81561                      -3.137995   \n",
      "\n",
      "       Benefit per order  Sales per customer  Order Item Discount  \\\n",
      "coeff          -0.000198           -0.001478            -0.012956   \n",
      "\n",
      "       Order Item Discount Rate  Order Item Product Price  \\\n",
      "coeff                 -0.116964                  0.000672   \n",
      "\n",
      "       Order Item Profit Ratio  Order Profit Per Order  Product Price  ...  \\\n",
      "coeff                -0.160738               -0.000198       0.000672  ...   \n",
      "\n",
      "       dummy_ON_HOLD  dummy_PAYMENT_REVIEW  dummy_PENDING  \\\n",
      "coeff         0.0344              0.037063       1.234752   \n",
      "\n",
      "       dummy_PENDING_PAYMENT  dummy_PROCESSING  dummy_SUSPECTED_FRAUD  \\\n",
      "coeff               0.108752          1.355965              -2.537965   \n",
      "\n",
      "       dummy_First Class  dummy_Same Day  dummy_Second Class  \\\n",
      "coeff           0.838352        -0.46229           -1.160691   \n",
      "\n",
      "       dummy_Standard Class  \n",
      "coeff             -0.413741  \n",
      "\n",
      "[1 rows x 1841 columns]\n"
     ]
    }
   ],
   "source": [
    "##Logistic regression\n",
    "logit_reg = LogisticRegression(penalty=\"l2\", C=1e42, solver='liblinear')\n",
    "logit_reg.fit(Xlr_train, ylr_train)\n",
    "print('intercept ', logit_reg.intercept_[0])\n",
    "print(pd.DataFrame({'coeff': logit_reg.coef_[0]}, index=Xlr.columns).transpose())"
   ]
  },
  {
   "cell_type": "code",
   "execution_count": 27,
   "id": "a9f7e5b4",
   "metadata": {},
   "outputs": [
    {
     "name": "stdout",
     "output_type": "stream",
     "text": [
      "    actual      p(0)      p(1)  predicted\n",
      "90       1  0.000012  0.999988          1\n",
      "1        1  0.000185  0.999815          1\n",
      "83       1  0.000006  0.999994          1\n"
     ]
    }
   ],
   "source": [
    "logit_reg_pred = logit_reg.predict(Xlr_test)\n",
    "logit_reg_proba = logit_reg.predict_proba(Xlr_test)\n",
    "logit_result = pd.DataFrame({'actual': ylr_test, \n",
    "                             'p(0)': [p[0] for p in logit_reg_proba],\n",
    "                             'p(1)': [p[1] for p in logit_reg_proba],\n",
    "                             'predicted': logit_reg_pred })\n",
    "\n",
    "#Considering 3 diffrent random cases from the dataset (Samples: 90, 1, 83)\n",
    "interestingCases = [90, 1, 83]\n",
    "print(logit_result.loc[interestingCases])"
   ]
  },
  {
   "cell_type": "code",
   "execution_count": 28,
   "id": "e72efc74",
   "metadata": {},
   "outputs": [
    {
     "name": "stdout",
     "output_type": "stream",
     "text": [
      "Training Data \n",
      "Confusion Matrix (Accuracy 1.0000)\n",
      "\n",
      "       Prediction\n",
      "Actual    0    1\n",
      "     0 1507    0\n",
      "     1    0 1493\n",
      "\n",
      "Testing Data\n",
      "Confusion Matrix (Accuracy 1.0000)\n",
      "\n",
      "       Prediction\n",
      "Actual    0    1\n",
      "     0  965    0\n",
      "     1    0 1035\n"
     ]
    }
   ],
   "source": [
    "#Measuring the performance of the data\n",
    "\n",
    "print('Training Data ')\n",
    "classificationSummary(ylr_train, logit_reg.predict(Xlr_train))\n",
    "\n",
    "print('\\nTesting Data')\n",
    "classificationSummary(ylr_test, logit_reg.predict(Xlr_test))"
   ]
  },
  {
   "cell_type": "code",
   "execution_count": 29,
   "id": "7d269a2f",
   "metadata": {},
   "outputs": [
    {
     "name": "stdout",
     "output_type": "stream",
     "text": [
      "LOG REG - Training Data - Confusion Matrix\n"
     ]
    },
    {
     "name": "stderr",
     "output_type": "stream",
     "text": [
      "C:\\Users\\Simmah Kazi\\anaconda3\\lib\\site-packages\\sklearn\\utils\\deprecation.py:87: FutureWarning: Function plot_confusion_matrix is deprecated; Function `plot_confusion_matrix` is deprecated in 1.0 and will be removed in 1.2. Use one of the class methods: ConfusionMatrixDisplay.from_predictions or ConfusionMatrixDisplay.from_estimator.\n",
      "  warnings.warn(msg, category=FutureWarning)\n"
     ]
    },
    {
     "data": {
      "image/png": "[encoded data removed]",
      "text/plain": [
       "<Figure size 432x288 with 2 Axes>"
      ]
     },
     "metadata": {
      "needs_background": "light"
     },
     "output_type": "display_data"
    },
    {
     "name": "stdout",
     "output_type": "stream",
     "text": [
      "LOG REG - Test Data - Confusion Matrix\n"
     ]
    },
    {
     "name": "stderr",
     "output_type": "stream",
     "text": [
      "C:\\Users\\Simmah Kazi\\anaconda3\\lib\\site-packages\\sklearn\\utils\\deprecation.py:87: FutureWarning: Function plot_confusion_matrix is deprecated; Function `plot_confusion_matrix` is deprecated in 1.0 and will be removed in 1.2. Use one of the class methods: ConfusionMatrixDisplay.from_predictions or ConfusionMatrixDisplay.from_estimator.\n",
      "  warnings.warn(msg, category=FutureWarning)\n"
     ]
    },
    {
     "data": {
      "image/png": "[encoded data removed]",
      "text/plain": [
       "<Figure size 432x288 with 2 Axes>"
      ]
     },
     "metadata": {
      "needs_background": "light"
     },
     "output_type": "display_data"
    }
   ],
   "source": [
    "##Confusion Matrix\n",
    "print('LOG REG - Training Data - Confusion Matrix')\n",
    "plot_confusion_matrix(logit_reg, Xlr_train, ylr_train)\n",
    "plt.show()\n",
    "\n",
    "print('LOG REG - Test Data - Confusion Matrix')\n",
    "plot_confusion_matrix(logit_reg, Xlr_test, ylr_test)\n",
    "plt.show()"
   ]
  },
  {
   "cell_type": "code",
   "execution_count": null,
   "id": "430d2409",
   "metadata": {},
   "outputs": [],
   "source": []
  }
 ],
 "metadata": {
  "kernelspec": {
   "display_name": "Python 3 (ipykernel)",
   "language": "python",
   "name": "python3"
  },
  "language_info": {
   "codemirror_mode": {
    "name": "ipython",
    "version": 3
   },
   "file_extension": ".py",
   "mimetype": "text/x-python",
   "name": "python",
   "nbconvert_exporter": "python",
   "pygments_lexer": "ipython3",
   "version": "3.9.12"
  }
 },
 "nbformat": 4,
 "nbformat_minor": 5
}
